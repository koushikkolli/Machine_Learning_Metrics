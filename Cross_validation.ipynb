{
 "cells": [
  {
   "cell_type": "markdown",
   "metadata": {},
   "source": [
    "# K-fold Cross-validation "
   ]
  },
  {
   "cell_type": "code",
   "execution_count": 5,
   "metadata": {},
   "outputs": [],
   "source": [
    "# import pandas and model_selection module from scikit-learn\n",
    "import pandas as pd\n",
    "from sklearn import model_selection\n",
    "\n",
    "if __name__ == \"__main__\":\n",
    "    # loading the dataset from the csv file\n",
    "    df = pd.read_csv(\"train.csv\")\n",
    "    \n",
    "    # creating the column kfold and assigning value -1\n",
    "    df[\"kfold\"] = -1\n",
    "    \n",
    "    # randomizing the rows of the dataframe\n",
    "    df = df.sample(frac=1).reset_index(drop=True)\n",
    "    \n",
    "    # initializng the KFold class from model_selection\n",
    "    kf = model_selection.KFold(n_splits=5)\n",
    "    \n",
    "    # filling the kflod column\n",
    "    for fold, (train_, validation_) in enumerate(kf.split(X=df)):\n",
    "        df.loc[validation_,\"kfold\"] = fold\n",
    "        \n",
    "    # saving the new csv with kflod column\n",
    "    df.to_csv(\"train_folds.cdv\", index=False)"
   ]
  },
  {
   "cell_type": "markdown",
   "metadata": {},
   "source": [
    "# Stratified K-fold Cross-validation\n",
    "* It should be used where the data is imbalanced"
   ]
  },
  {
   "cell_type": "code",
   "execution_count": 7,
   "metadata": {},
   "outputs": [],
   "source": [
    "# importing pandas and model_selection from scikit-learn\n",
    "import pandas as pd\n",
    "from sklearn import model_selection\n",
    "\n",
    "if __name__ == \"__main__\":\n",
    "    # importing the dataset from the csv file\n",
    "    df = pd.read_csv(\"train.csv\")\n",
    "    \n",
    "    # creating the column kfold and assigning value -1\n",
    "    df[\"kfold\"] = -1 \n",
    "    \n",
    "    # fetching the targets\n",
    "    y = df.targets.values\n",
    "    \n",
    "    # randomizing the rows of a dataframe\n",
    "    df = df.sample(frac=1).reset_index(drop=True)\n",
    "    \n",
    "    # intializing the Stratified KFold class from model_selection \n",
    "    kf = model_selection.StratifiedKFold(n_splits=5)\n",
    "    \n",
    "    # filling the kfold column with the assigned fold\n",
    "    for fold, (train_, validation_) in enumerate(kf.split(X=df, y=y)):\n",
    "        df.loc[validation_, \"kflod\"] = fold\n",
    "    \n",
    "    # saving the new csv with kfold column\n",
    "    df.to_csv(\"train_stratified_kfold.csv\", index=False)"
   ]
  },
  {
   "cell_type": "markdown",
   "metadata": {},
   "source": [
    "# Stratified K-fold Cross-validation for Regression\n",
    "* It can be used if the distribution of targets is not consistent\n",
    "* We have to divide the target into bins and then we can use stratified k-fold\n",
    "* If we have lot of samples we can divide into 10 or 20 bins\n",
    "* If we have fewer samples we have to use __Sturuge's Rule__\n",
    "       Sturuge's Rule :\n",
    "           Number of Bins = 1 + log2(N)"
   ]
  },
  {
   "cell_type": "code",
   "execution_count": 9,
   "metadata": {},
   "outputs": [
    {
     "name": "stderr",
     "output_type": "stream",
     "text": [
      "/home/koushik/miniconda3/envs/ml/lib/python3.7/site-packages/sklearn/model_selection/_split.py:672: UserWarning: The least populated class in y has only 3 members, which is less than n_splits=5.\n",
      "  % (min_groups, self.n_splits)), UserWarning)\n"
     ]
    }
   ],
   "source": [
    "# importing pandas numpy, datasets from sklearn and model_selection from sklearn\n",
    "import pandas as pd\n",
    "import numpy as np\n",
    "\n",
    "from sklearn import datasets\n",
    "from sklearn import model_selection\n",
    "\n",
    "def create_folds(data):\n",
    "    # creating the column kfold and assigning value -1\n",
    "    data[\"kfold\"] = -1\n",
    "    \n",
    "    # randomizing the rows of the dataframe\n",
    "    data = data.sample(frac=1).reset_index(drop=True)\n",
    "    \n",
    "    # Calculating the number of bins\n",
    "    num_bins = int(np.floor(1 + np.log2(len(data))))\n",
    "    \n",
    "    # bin targets \n",
    "    data.loc[:, \"bins\"] = pd.cut(\n",
    "        data[\"target\"], bins=num_bins, labels=False\n",
    "    )\n",
    "    \n",
    "    # initializing the stratified kfold class from model_selection\n",
    "    kf = model_selection.StratifiedKFold(n_splits=5)\n",
    "    \n",
    "    # filling the kfold column of the dataframe\n",
    "    for fold, (train_, validation_) in enumerate(kf.split(X=data, y=data.bins.values)):\n",
    "        data.loc[validation_, \"kfold\"] = fold\n",
    "    \n",
    "    # droping the bins column\n",
    "    data = data.drop(\"bins\", axis=1)\n",
    "    \n",
    "    return data\n",
    "\n",
    "if __name__ == \"__main__\":\n",
    "    # Creating a sample dataset with 15000 exaples\n",
    "    X, y = datasets.make_regression(\n",
    "        n_samples=15000, n_features=100, n_targets=1\n",
    "    )\n",
    "    \n",
    "    # creating a dataframe from numpy array\n",
    "    df = pd.DataFrame(\n",
    "        X,\n",
    "        columns=[f\"f_{i}\" for i in range(X.shape[1])]\n",
    "    )\n",
    "    \n",
    "    df.loc[:, \"target\"] = y\n",
    "    \n",
    "    # creating folds \n",
    "    df = create_folds(df)\n",
    "    \n",
    "    # writing into new csv file \n",
    "    df.to_csv(\"train_regression_stratified.csv\", index=False)\n",
    "    "
   ]
  },
  {
   "cell_type": "code",
   "execution_count": null,
   "metadata": {},
   "outputs": [],
   "source": []
  },
  {
   "cell_type": "code",
   "execution_count": null,
   "metadata": {},
   "outputs": [],
   "source": []
  },
  {
   "cell_type": "code",
   "execution_count": null,
   "metadata": {},
   "outputs": [],
   "source": []
  }
 ],
 "metadata": {
  "kernelspec": {
   "display_name": "Python 3",
   "language": "python",
   "name": "python3"
  },
  "language_info": {
   "codemirror_mode": {
    "name": "ipython",
    "version": 3
   },
   "file_extension": ".py",
   "mimetype": "text/x-python",
   "name": "python",
   "nbconvert_exporter": "python",
   "pygments_lexer": "ipython3",
   "version": "3.7.6"
  }
 },
 "nbformat": 4,
 "nbformat_minor": 4
}
